{
  "nbformat": 4,
  "nbformat_minor": 0,
  "metadata": {
    "colab": {
      "provenance": []
    },
    "kernelspec": {
      "name": "python3",
      "display_name": "Python 3"
    },
    "language_info": {
      "name": "python"
    }
  },
  "cells": [
    {
      "cell_type": "markdown",
      "source": [
        "# Low level Neural Network Functions\n",
        "- Convolution filter (5 points)\n",
        "- Rectified linear - ReLu (2 points) \n",
        "- Max pooling (3 points)\n",
        "- Normalisation (2 points)\n",
        "- Fully-connected layer (5 points)\n",
        "- Softmax (2points)"
      ],
      "metadata": {
        "id": "_3LpYC-2o--7"
      }
    },
    {
      "cell_type": "code",
      "execution_count": null,
      "metadata": {
        "id": "aoPW4CWwoK5J"
      },
      "outputs": [],
      "source": [
        "## import libraries\n",
        "#Importing Libraries\n",
        "from tensorflow import keras\n",
        "import numpy as np\n",
        "import seaborn as sns\n",
        "import matplotlib.pyplot as plt\n",
        "from keras.utils import plot_model"
      ]
    },
    {
      "cell_type": "markdown",
      "source": [
        "## Getting the data an selecting one image for testing"
      ],
      "metadata": {
        "id": "Xw0CSGc2qA3C"
      }
    },
    {
      "cell_type": "code",
      "source": [
        "#Getting The Mnist image data\n",
        "(x_train_mnist, y_train_mnist), (x_test_mnist, y_test_mnist) = keras.datasets.mnist.load_data()"
      ],
      "metadata": {
        "id": "olXcsRmEpJ-5"
      },
      "execution_count": null,
      "outputs": []
    },
    {
      "cell_type": "code",
      "source": [
        "#Getting The CIFAR10 image data\n",
        "(x_train_cifar, y_train_cifar), (x_test_cifar, y_test_cifar) =  keras.datasets.cifar10.load_data()"
      ],
      "metadata": {
        "id": "2aMVaHJSpKBo"
      },
      "execution_count": null,
      "outputs": []
    },
    {
      "cell_type": "code",
      "source": [
        "#function that just selects one image and then convert the image values to be between 0 and 1\n",
        "def data_preprocessing(x_train):\n",
        "  return x_train[195]/255"
      ],
      "metadata": {
        "id": "HMrR_dn7pKEw"
      },
      "execution_count": null,
      "outputs": []
    },
    {
      "cell_type": "code",
      "source": [
        "image_mnist = data_preprocessing(x_train_mnist)"
      ],
      "metadata": {
        "id": "cJdrpaPHpKIB"
      },
      "execution_count": null,
      "outputs": []
    },
    {
      "cell_type": "code",
      "source": [
        "image_cifar = data_preprocessing(x_train_cifar)"
      ],
      "metadata": {
        "id": "_rIVEra4ptPh"
      },
      "execution_count": null,
      "outputs": []
    },
    {
      "cell_type": "code",
      "source": [
        "print(\"The shape of the Mnist image is {} and shape of the CIFAR10 image is {}\".format(image_mnist.shape, image_cifar.shape))"
      ],
      "metadata": {
        "colab": {
          "base_uri": "https://localhost:8080/"
        },
        "id": "wxS1kwJKpwAJ",
        "outputId": "62429d66-7aa9-4d9e-fff4-e97b958122e1"
      },
      "execution_count": null,
      "outputs": [
        {
          "output_type": "stream",
          "name": "stdout",
          "text": [
            "The shape of the Mnist image is (28, 28) and shape of the CIFAR10 image is (32, 32, 3)\n"
          ]
        }
      ]
    },
    {
      "cell_type": "code",
      "source": [
        "plt.imshow(image_cifar)"
      ],
      "metadata": {
        "colab": {
          "base_uri": "https://localhost:8080/",
          "height": 284
        },
        "id": "4Btwe8YsQhOz",
        "outputId": "e4657079-0898-4810-8478-80195dd90ead"
      },
      "execution_count": null,
      "outputs": [
        {
          "output_type": "execute_result",
          "data": {
            "text/plain": [
              "<matplotlib.image.AxesImage at 0x7f79d2bc9ca0>"
            ]
          },
          "metadata": {},
          "execution_count": 8
        },
        {
          "output_type": "display_data",
          "data": {
            "text/plain": [
              "<Figure size 432x288 with 1 Axes>"
            ],
            "image/png": "[encoded data removed]"
          },
          "metadata": {
            "needs_background": "light"
          }
        }
      ]
    },
    {
      "cell_type": "code",
      "source": [
        "plt.imshow(image_mnist)"
      ],
      "metadata": {
        "colab": {
          "base_uri": "https://localhost:8080/",
          "height": 283
        },
        "id": "iFKWRFkIRC6r",
        "outputId": "744cf487-b12b-4bd9-ae22-8c49b23682c0"
      },
      "execution_count": null,
      "outputs": [
        {
          "output_type": "execute_result",
          "data": {
            "text/plain": [
              "<matplotlib.image.AxesImage at 0x7f79d02f6dc0>"
            ]
          },
          "metadata": {},
          "execution_count": 9
        },
        {
          "output_type": "display_data",
          "data": {
            "text/plain": [
              "<Figure size 432x288 with 1 Axes>"
            ],
            "image/png": "[encoded data removed]"
          },
          "metadata": {
            "needs_background": "light"
          }
        }
      ]
    },
    {
      "cell_type": "code",
      "source": [
        "# Cifar with code 5 is a dog\n",
        "y_train_cifar[195]"
      ],
      "metadata": {
        "colab": {
          "base_uri": "https://localhost:8080/"
        },
        "id": "VjwfhKnSQtCD",
        "outputId": "93760072-b619-478c-8529-5fda8551691a"
      },
      "execution_count": null,
      "outputs": [
        {
          "output_type": "execute_result",
          "data": {
            "text/plain": [
              "array([5], dtype=uint8)"
            ]
          },
          "metadata": {},
          "execution_count": 10
        }
      ]
    },
    {
      "cell_type": "markdown",
      "source": [
        "## Convolution filter function"
      ],
      "metadata": {
        "id": "W-eP6TP9qJVB"
      }
    },
    {
      "cell_type": "code",
      "source": [
        "def conv2d(input_layer, filters):\n",
        "\n",
        "    # Dimensions of the input layer\n",
        "    input_shape = input_layer.shape\n",
        "    # Number of channels in the input layer\n",
        "    input_channels = input_shape[-1]\n",
        "\n",
        "    # Dimensions of the filter\n",
        "    \n",
        "    filter_shape = filters.shape[:2]\n",
        "\n",
        "    # Number of filters\n",
        "    num_filters = filters.shape[-1]\n",
        "    # Height and width of the filter\n",
        "    filter_height, filter_width = filter_shape[:2]\n",
        "\n",
        "    # Compute the output shape\n",
        "    output_height = input_shape[0] - filter_height + 1\n",
        "    output_width = input_shape[1] - filter_width + 1\n",
        "    if output_height <= 0 or output_width <= 0:\n",
        "        raise ValueError(\"Please choose a valid filter shape\")\n",
        "\n",
        "    # Initialize the output layer\n",
        "    filter_map = np.zeros((output_height, output_width, num_filters))\n",
        "\n",
        "    # Iterate over each filter\n",
        "    for f in range(num_filters):\n",
        "        # Iterate over each pixel in the output layer\n",
        "        for i in range(output_height):\n",
        "            for j in range(output_width):\n",
        "                # Extract the current window of the input layer\n",
        "                window = input_layer[i:i+filter_shape[0], j:j+filter_shape[1], :]\n",
        "                # Compute the dot product between the window and the filter\n",
        "                filter_map[i, j, f] = np.sum(window * filters[:, :, :, f])\n",
        "  \n",
        "    # Return the filter map\n",
        "    return filter_map\n"
      ],
      "metadata": {
        "id": "-YhQ0HNyJA7n"
      },
      "execution_count": null,
      "outputs": []
    },
    {
      "cell_type": "code",
      "source": [
        "#Verticale edges\n",
        "kernel1 = np.array([[-1, 0, 1],\n",
        "                   [-2, 0, 2],\n",
        "                   [-1, 0, 1]])\n",
        "\n",
        "#Horizontal edges\n",
        "kernel2 = np.array([[-1, -1, -1],\n",
        "                   [ 0,  0,  0],\n",
        "                   [ 1,  1,  1]])\n",
        "#each filter should have a third dimension of corresponding size\n",
        "kernel1 = kernel1[:, :, np.newaxis]\n",
        "kernel2 = kernel2[:, :, np.newaxis]\n",
        "\n",
        "list_kernels = [kernel1, kernel2]\n",
        "\n",
        "#Stack the filters\n",
        "stacked_filters = np.stack(list_kernels, axis=-1)\n",
        "print(\"The shape of the kernel is {}\".format(stacked_filters.shape))"
      ],
      "metadata": {
        "id": "9qKYUi4RF_mu",
        "colab": {
          "base_uri": "https://localhost:8080/"
        },
        "outputId": "e7bdcf11-ea77-43cf-fc5c-ef31169010d7"
      },
      "execution_count": null,
      "outputs": [
        {
          "output_type": "stream",
          "name": "stdout",
          "text": [
            "The shape of the kernel is (3, 3, 1, 2)\n"
          ]
        }
      ]
    },
    {
      "cell_type": "code",
      "source": [
        "# Apply the convolution to CIFAR10 image, which is 32x32x3\n",
        "print(\"The input shape of the CIFAR10 dataset {}\".format(image_cifar.shape))\n",
        "filtermap_cifar = conv2d(image_cifar, stacked_filters)\n",
        "\n",
        "\n",
        "# Apply the convolution to MNIST image, which is 28x28\n",
        "\n",
        "# The input layer should have a third dimension, representing a stack of feature maps. For MNIST We don't have 3 dimensions, so we include it\n",
        "image_mnist3d = image_mnist[:, :, np.newaxis]\n",
        "print(\"Input shape of MNIST dataset {}\".format(image_mnist3d.shape))\n",
        "\n",
        "filtermap_mnist = conv2d(image_mnist3d, stacked_filters)"
      ],
      "metadata": {
        "colab": {
          "base_uri": "https://localhost:8080/"
        },
        "id": "wj0Y4_dPIwl1",
        "outputId": "a6cc0bdd-133e-4eb5-fecd-24c861110b0b"
      },
      "execution_count": null,
      "outputs": [
        {
          "output_type": "stream",
          "name": "stdout",
          "text": [
            "The input shape of the CIFAR10 dataset (32, 32, 3)\n",
            "Input shape of MNIST dataset (28, 28, 1)\n"
          ]
        }
      ]
    },
    {
      "cell_type": "code",
      "source": [
        "# Printing and plotting results after cov2d function\n",
        "print(\"Result after convolutional filter on the mnist dataset {}\".format(filtermap_mnist.shape))\n",
        "print(\"Result after convolutional filter on the cifar dataset {}\".format(filtermap_cifar.shape))"
      ],
      "metadata": {
        "colab": {
          "base_uri": "https://localhost:8080/"
        },
        "id": "5J1VqF85Jiv-",
        "outputId": "ad4788d7-f32b-49f9-8152-498a8eec117f"
      },
      "execution_count": null,
      "outputs": [
        {
          "output_type": "stream",
          "name": "stdout",
          "text": [
            "Result after convolutional filter on the mnist dataset (26, 26, 2)\n",
            "Result after convolutional filter on the cifar dataset (30, 30, 2)\n"
          ]
        }
      ]
    },
    {
      "cell_type": "code",
      "source": [
        "def plot_filtermap(filtermap, name_filter = {0: \"Verticale\", 1: \"Horizontal\"}):\n",
        "\n",
        "    fig, axs = plt.subplots(nrows=1, ncols=2, figsize=(10, 8))\n",
        "    \n",
        "    for i in range(filtermap.shape[-1]):\n",
        "        # Plot the filter map\n",
        "        axs[i].imshow(filtermap[:, :, i], cmap='gray')\n",
        "        axs[i].set_title(f'{name_filter[i]} Filter')\n",
        "        axs[i].set_xlabel('Width')\n",
        "        axs[i].set_ylabel('Height')\n",
        "        \n",
        "    \n",
        "    plt.show()\n"
      ],
      "metadata": {
        "id": "qejYu3c2Nx9N"
      },
      "execution_count": null,
      "outputs": []
    },
    {
      "cell_type": "code",
      "source": [
        "plot_filtermap(filtermap_mnist, name_filter = {0: \"Verticale\", 1: \"Horizontal\"})"
      ],
      "metadata": {
        "colab": {
          "base_uri": "https://localhost:8080/",
          "height": 332
        },
        "id": "e84kESeYQOBk",
        "outputId": "7d3bbb43-dcfd-4e69-a45b-9c48b37b4a04"
      },
      "execution_count": null,
      "outputs": [
        {
          "output_type": "display_data",
          "data": {
            "text/plain": [
              "<Figure size 720x576 with 2 Axes>"
            ],
            "image/png": "[encoded data removed]"
          },
          "metadata": {
            "needs_background": "light"
          }
        }
      ]
    },
    {
      "cell_type": "code",
      "source": [
        "plot_filtermap(filtermap_cifar, name_filter = {0: \"Verticale\", 1: \"Horizontal\"})"
      ],
      "metadata": {
        "colab": {
          "base_uri": "https://localhost:8080/",
          "height": 332
        },
        "id": "3PjvSu5CQQdb",
        "outputId": "d9105c81-8513-486f-b260-87998557454b"
      },
      "execution_count": null,
      "outputs": [
        {
          "output_type": "display_data",
          "data": {
            "text/plain": [
              "<Figure size 720x576 with 2 Axes>"
            ],
            "image/png": "[encoded data removed]"
          },
          "metadata": {
            "needs_background": "light"
          }
        }
      ]
    },
    {
      "cell_type": "markdown",
      "source": [
        "## Rectified linear - ReLu function"
      ],
      "metadata": {
        "id": "a438xfFsqLi4"
      }
    },
    {
      "cell_type": "code",
      "source": [
        "def relu_activation(filter_map):\n",
        "  #Threshold/rectification operation Y = f(X) = max(0, X) \n",
        "  result = np.maximum(filter_map, 0) \n",
        "  return result"
      ],
      "metadata": {
        "id": "15WqZ_Jcyrgz"
      },
      "execution_count": null,
      "outputs": []
    },
    {
      "cell_type": "code",
      "source": [
        "# Testing the Relu function\n",
        "\n",
        "relu_mnist = relu_activation(filtermap_mnist)\n",
        "relu_cifar = relu_activation(filtermap_cifar)"
      ],
      "metadata": {
        "id": "Y4CNKK78TDdL"
      },
      "execution_count": null,
      "outputs": []
    },
    {
      "cell_type": "code",
      "source": [
        "plot_filtermap(relu_mnist, name_filter = {0: \"Verticale\", 1: \"Horizontal\"})\n",
        "plot_filtermap(relu_cifar, name_filter = {0: \"Verticale\", 1: \"Horizontal\"})"
      ],
      "metadata": {
        "colab": {
          "base_uri": "https://localhost:8080/",
          "height": 647
        },
        "id": "dNAcg1gORfGD",
        "outputId": "184cef6f-d233-44c4-983f-9e9655911a6e"
      },
      "execution_count": null,
      "outputs": [
        {
          "output_type": "display_data",
          "data": {
            "text/plain": [
              "<Figure size 720x576 with 2 Axes>"
            ],
            "image/png": "[encoded data removed]"
          },
          "metadata": {
            "needs_background": "light"
          }
        },
        {
          "output_type": "display_data",
          "data": {
            "text/plain": [
              "<Figure size 720x576 with 2 Axes>"
            ],
            "image/png": "[encoded data removed]"
          },
          "metadata": {
            "needs_background": "light"
          }
        }
      ]
    },
    {
      "cell_type": "markdown",
      "source": [
        "\n",
        "\n",
        "```\n",
        "`# This is formatted as code`\n",
        "```\n",
        "\n",
        "## Max pooling function"
      ],
      "metadata": {
        "id": "gAsgkjqNqLtY"
      }
    },
    {
      "cell_type": "code",
      "source": [
        "def maximum_pool(feature_map, strides=(2, 2),  size_pool=(1, 1)):\n",
        "\n",
        "    # Get input dimensions\n",
        "    height, width, depth = feature_map.shape\n",
        "\n",
        "    #Result dimension\n",
        "\n",
        "    \"\"\"\n",
        "        - The end result would depend on the size of the pool and the strides(step we take to the right and below when moving the pool window).\n",
        "\n",
        "        - Example if we have A 4x4 matrix filled with rondom numbers (filermap). Suppose we choose a max pool size of 2x2 with a stride of 1, \n",
        "          the resulting matrix would be 3x3 matrix:\n",
        "\n",
        "                              \n",
        "                              \n",
        "        - Feature map, input for the maxpool                 | 1 | 2 | 3 | 4 |\n",
        "                                                             | 5 | 6 | 7 | 8 |\n",
        "                                                             | 9 | 10| 11| 12|\n",
        "                                                             | 13| 14| 15| 16|\n",
        "         \n",
        "        - After Max maxpool 2x2 with stride 1x1              | 6 | 7 | 8 |\n",
        "                                                             |10 |11 |12 |\n",
        "                                                             |14 |15 |16 |\n",
        "        \n",
        "        - After Max maxpool 2x2 with stride 2x2 :            | 6 | 8 |\n",
        "                                                             |14 |16 |\n",
        "    \n",
        "    \"\"\"\n",
        "\n",
        "    pool_height, pool_width = size_pool\n",
        "    stride_height, stride_width = strides\n",
        "    pooled_height = int(np.floor((height - pool_height) / stride_height)) + 1\n",
        "    pooled_width = int(np.floor((width - pool_width) / stride_width)) + 1\n",
        "\n",
        "    #Creating the output of the maxpool, filled with zeros\n",
        "    pooled = np.zeros((pooled_height, pooled_width, depth))\n",
        "\n",
        "    # Apply max pooling\n",
        "    for h in range(pooled_height):\n",
        "\n",
        "        for w in range(pooled_width):\n",
        "\n",
        "            for d in range(depth):\n",
        "                # Compute the pooling window\n",
        "\n",
        "                step_height = h*stride_height\n",
        "                step_width = w*stride_width\n",
        "\n",
        "                window = feature_map[step_height:step_height+pool_height, step_width:step_width+pool_width, d]\n",
        "\n",
        "                # Apply max pooling\n",
        "                pooled[h, w, d] = np.max(window)\n",
        "\n",
        "    return pooled"
      ],
      "metadata": {
        "id": "GIMLgyhxqlBQ"
      },
      "execution_count": null,
      "outputs": []
    },
    {
      "cell_type": "markdown",
      "source": [
        "### Testing Maxpool function"
      ],
      "metadata": {
        "id": "nGOr-kmzqoYw"
      }
    },
    {
      "cell_type": "code",
      "source": [
        "# Testing the maxpool function\n",
        "pooled_mnist = maximum_pool(relu_mnist, strides=(2, 2),  size_pool=(1, 1))\n",
        "pooled_cifar = maximum_pool(relu_cifar, strides=(2, 2),  size_pool=(1, 1))\n",
        "\n",
        "\n",
        "print(\"The shape of the pooled mnist image is {}\".format(pooled_mnist.shape))\n",
        "print(\"The shape of the pooled cifar image is {}\".format(pooled_cifar.shape))\n",
        "\n",
        "# Plot results\n",
        "plot_filtermap(pooled_mnist, name_filter = {0: \"Verticale\", 1: \"Horizontal\"})\n",
        "plot_filtermap(pooled_cifar, name_filter = {0: \"Verticale\", 1: \"Horizontal\"})"
      ],
      "metadata": {
        "id": "2tQF-96gqsoY",
        "colab": {
          "base_uri": "https://localhost:8080/",
          "height": 683
        },
        "outputId": "47ad67f3-e3ef-479a-8eb6-08ae6fb6f984"
      },
      "execution_count": null,
      "outputs": [
        {
          "output_type": "stream",
          "name": "stdout",
          "text": [
            "The shape of the pooled mnist image is (13, 13, 2)\n",
            "The shape of the pooled cifar image is (15, 15, 2)\n"
          ]
        },
        {
          "output_type": "display_data",
          "data": {
            "text/plain": [
              "<Figure size 720x576 with 2 Axes>"
            ],
            "image/png": "[encoded data removed]"
          },
          "metadata": {
            "needs_background": "light"
          }
        },
        {
          "output_type": "display_data",
          "data": {
            "text/plain": [
              "<Figure size 720x576 with 2 Axes>"
            ],
            "image/png": "[encoded data removed]"
          },
          "metadata": {
            "needs_background": "light"
          }
        }
      ]
    },
    {
      "cell_type": "markdown",
      "source": [
        "## Normalisation function"
      ],
      "metadata": {
        "id": "rJUQwlhkqL1o"
      }
    },
    {
      "cell_type": "code",
      "source": [
        "def normalize(input):\n",
        "\n",
        "  #tmp = input-mean(input) then output=tmp/std(input)\n",
        "\n",
        "  mean_input = np.mean(input, dtype=np.float32)\n",
        "  std_input = np.std(input, dtype=np.float32)\n",
        "  \n",
        "  return (input-mean_input)/std_input"
      ],
      "metadata": {
        "id": "D9Br7q6arAmI"
      },
      "execution_count": null,
      "outputs": []
    },
    {
      "cell_type": "code",
      "source": [
        "# Testing the normalization function\n",
        "normalized_mnist = normalize(pooled_mnist)\n",
        "normalized_cifar = normalize(pooled_cifar)\n",
        "\n",
        "\n",
        "print(\"The mean and standard deviation of the normalized mnist image {}, {} respectively\".format(round(np.mean(normalized_mnist), 3), np.std(normalized_mnist)))\n",
        "print(\"The mean and standard deviation of the normalized cifar image {}, {} respectively\".format(round(np.mean(normalized_cifar), 3), np.std(normalized_cifar)))\n",
        "\n",
        "# Plot results\n",
        "plot_filtermap(normalized_mnist, name_filter = {0: \"Verticale\", 1: \"Horizontal\"})\n",
        "plot_filtermap(normalized_cifar, name_filter = {0: \"Verticale\", 1: \"Horizontal\"})"
      ],
      "metadata": {
        "id": "w2ig_fVyrAuo",
        "colab": {
          "base_uri": "https://localhost:8080/",
          "height": 683
        },
        "outputId": "a0a1924e-a4b6-4eb2-b591-748976b6ed67"
      },
      "execution_count": null,
      "outputs": [
        {
          "output_type": "stream",
          "name": "stdout",
          "text": [
            "The mean and standard deviation of the normalized mnist image 0.0, 0.9999999546845867 respectively\n",
            "The mean and standard deviation of the normalized cifar image 0.0, 0.9999999886172681 respectively\n"
          ]
        },
        {
          "output_type": "display_data",
          "data": {
            "text/plain": [
              "<Figure size 720x576 with 2 Axes>"
            ],
            "image/png": "[encoded data removed]"
          },
          "metadata": {
            "needs_background": "light"
          }
        },
        {
          "output_type": "display_data",
          "data": {
            "text/plain": [
              "<Figure size 720x576 with 2 Axes>"
            ],
            "image/png": "[encoded data removed]"
          },
          "metadata": {
            "needs_background": "light"
          }
        }
      ]
    },
    {
      "cell_type": "markdown",
      "source": [
        "## Fully-connected layer function"
      ],
      "metadata": {
        "id": "4SLpwdITqL7g"
      }
    },
    {
      "cell_type": "code",
      "source": [
        "def fully_connected_layer(feature_Stacks, n_output_nodes):\n",
        "\n",
        "    # Begin by flattening this stack of feature maps into a 1-dimensional matrix\n",
        "    flattened_features = feature_Stacks.flatten()\n",
        "\n",
        "    # Defining some weights and initializing with zeros\n",
        "    feature_nodes = flattened_features.shape[0]\n",
        "\n",
        "    weights = np.random.randn(feature_nodes, n_output_nodes)\n",
        "    # Multiply the flattened input by the weight matrix\n",
        "    output = np.dot(flattened_features, weights)\n",
        "\n",
        "    # Apply the relu_activation defined earlier\n",
        "    output = relu_activation(output)\n",
        "\n",
        "    # Return the output array\n",
        "    return output\n"
      ],
      "metadata": {
        "id": "YtTkAJzNxXcz"
      },
      "execution_count": null,
      "outputs": []
    },
    {
      "cell_type": "code",
      "source": [
        "# Testing the fully-connected layer function\n",
        "connectd_layer_mnist = fully_connected_layer(normalized_mnist, 10)\n",
        "connectd_layer_cifar = fully_connected_layer(normalized_cifar, 10)\n",
        "\n",
        "\n",
        "print(connectd_layer_mnist)\n",
        "print(connectd_layer_cifar)"
      ],
      "metadata": {
        "id": "84RXBIlVxXma",
        "colab": {
          "base_uri": "https://localhost:8080/"
        },
        "outputId": "d88d91cf-7b3e-4f5a-80ee-a73cbf0535d9"
      },
      "execution_count": null,
      "outputs": [
        {
          "output_type": "stream",
          "name": "stdout",
          "text": [
            "[0.         0.         0.         2.24705197 0.         0.\n",
            " 0.         3.55836528 0.         0.        ]\n",
            "[ 5.45909532  0.          7.86565186 16.07112103  0.          0.\n",
            " 11.68942834  0.         23.88584488  0.        ]\n"
          ]
        }
      ]
    },
    {
      "cell_type": "markdown",
      "source": [
        "## Softmax function"
      ],
      "metadata": {
        "id": "vcRTf4HBqboo"
      }
    },
    {
      "cell_type": "code",
      "source": [
        "## Softmax function"
      ],
      "metadata": {
        "id": "H6oOaKbMqZFr"
      },
      "execution_count": null,
      "outputs": []
    },
    {
      "cell_type": "code",
      "source": [
        "def softmax(input):\n",
        "\n",
        "  \"\"\"\n",
        "\n",
        "  This function converts the calculated output from the fully-connected layer into a PROBABILITY that this input image falls into each category.\n",
        "\n",
        "  \"\"\"\n",
        "\n",
        "  exponential  = np.exp(input)\n",
        "\n",
        "  return np.round(((exponential/(np.sum(exponential)))), 3)"
      ],
      "metadata": {
        "id": "CY54lzyExqKD"
      },
      "execution_count": null,
      "outputs": []
    },
    {
      "cell_type": "code",
      "source": [
        "prob_mnist = softmax(connectd_layer_mnist)\n",
        "prob_cifar = softmax(connectd_layer_cifar)"
      ],
      "metadata": {
        "id": "VYpxgnsNyeqb"
      },
      "execution_count": null,
      "outputs": []
    },
    {
      "cell_type": "code",
      "source": [
        "prob_mnist"
      ],
      "metadata": {
        "colab": {
          "base_uri": "https://localhost:8080/"
        },
        "id": "TQUhyyh_McRj",
        "outputId": "8ef09fe8-ef02-4a61-f04f-c43222877bac"
      },
      "execution_count": null,
      "outputs": [
        {
          "output_type": "execute_result",
          "data": {
            "text/plain": [
              "array([0.019, 0.019, 0.019, 0.18 , 0.019, 0.019, 0.019, 0.668, 0.019,\n",
              "       0.019])"
            ]
          },
          "metadata": {},
          "execution_count": 30
        }
      ]
    },
    {
      "cell_type": "code",
      "source": [
        "label_mnist = {0: 'zero', 1: 'one', 2: 'two', 3: 'three',4: 'four', 5: 'five', 6: 'six', 7: 'seven',8: 'eight', 9: 'nine'}\n",
        "label_cifar = {0: 'airplane', 1: 'automobile', 2: 'bird', 3: 'cat', 4: 'deer', 5: 'dog', 6: 'frog', 7: 'horse', 8: 'ship', 9: 'truck'}"
      ],
      "metadata": {
        "id": "U6FEqDEjFotl"
      },
      "execution_count": null,
      "outputs": []
    },
    {
      "cell_type": "code",
      "source": [
        "pred_value_mnist = np.where(prob_mnist == np.max(prob_mnist))[0][0]\n",
        "print(label_mnist[pred_value_mnist])"
      ],
      "metadata": {
        "colab": {
          "base_uri": "https://localhost:8080/"
        },
        "id": "xTBUBBYRGYGt",
        "outputId": "532c8c6e-e532-4b57-e4a7-b0fe0b98c1dd"
      },
      "execution_count": null,
      "outputs": [
        {
          "output_type": "stream",
          "name": "stdout",
          "text": [
            "seven\n"
          ]
        }
      ]
    },
    {
      "cell_type": "code",
      "source": [
        "pred_value_cifar = np.where(prob_cifar == np.max(prob_cifar))[0][0]\n",
        "print(label_cifar[pred_value_cifar])"
      ],
      "metadata": {
        "colab": {
          "base_uri": "https://localhost:8080/"
        },
        "id": "ujpMFEcbIu3G",
        "outputId": "8cd70a74-ce18-4dac-8e06-1e0bfac5d382"
      },
      "execution_count": null,
      "outputs": [
        {
          "output_type": "stream",
          "name": "stdout",
          "text": [
            "ship\n"
          ]
        }
      ]
    }
  ]
}